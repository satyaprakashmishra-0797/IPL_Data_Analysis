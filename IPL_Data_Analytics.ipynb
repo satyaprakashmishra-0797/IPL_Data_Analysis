{
 "cells": [
  {
   "cell_type": "code",
   "execution_count": 2,
   "id": "a11297a0-f2c5-4ebe-91f2-65a0c63903b2",
   "metadata": {},
   "outputs": [],
   "source": [
    "import pandas as pd\n",
    "import matplotlib.pyplot as plt\n",
    "import seaborn as sns\n",
    "import numpy as np"
   ]
  },
  {
   "cell_type": "code",
   "execution_count": 3,
   "id": "a4900f5f-34b7-46e5-9964-40b23c2f431e",
   "metadata": {},
   "outputs": [],
   "source": [
    "ipl_matches = pd.read_csv('matches.csv')\n",
    "ipl_balls = pd.read_csv('ipl_ball_by_ball.csv')"
   ]
  },
  {
   "cell_type": "code",
   "execution_count": 3,
   "id": "90169aaf-24a6-43f6-8a61-d153074b48c0",
   "metadata": {},
   "outputs": [],
   "source": [
    "#ipl_matches.head(10)"
   ]
  },
  {
   "cell_type": "code",
   "execution_count": 20,
   "id": "5b73dee7-ebb2-4589-a810-520aa534fb6e",
   "metadata": {},
   "outputs": [],
   "source": [
    "#ipl_matches.tail()"
   ]
  },
  {
   "cell_type": "code",
   "execution_count": 4,
   "id": "fd867463-7ab9-46bf-9a9b-a564a7621772",
   "metadata": {},
   "outputs": [
    {
     "data": {
      "text/plain": [
       "(1095, 20)"
      ]
     },
     "execution_count": 4,
     "metadata": {},
     "output_type": "execute_result"
    }
   ],
   "source": [
    "ipl_matches.shape"
   ]
  },
  {
   "cell_type": "code",
   "execution_count": 25,
   "id": "ba7e8a48-6c69-4ac9-a1f1-87c0bfbcedd1",
   "metadata": {},
   "outputs": [],
   "source": [
    "#ipl_matches.info()"
   ]
  },
  {
   "cell_type": "code",
   "execution_count": 5,
   "id": "45155d15-f905-4d24-b7be-cef134e1fe77",
   "metadata": {},
   "outputs": [],
   "source": [
    "season_corrections = {'2007/08':'2008','2009/10':'2010','2020/21':'2020'}\n",
    "#replace corrected seasons with existing seasons\n",
    "ipl_matches['season'] = ipl_matches['season'].replace(season_corrections)"
   ]
  },
  {
   "cell_type": "code",
   "execution_count": 6,
   "id": "22c89c91-b2da-4066-a894-76410989f6f4",
   "metadata": {},
   "outputs": [
    {
     "data": {
      "text/plain": [
       "array(['2008', '2009', '2010', '2011', '2012', '2013', '2014', '2015',\n",
       "       '2016', '2017', '2018', '2019', '2020', '2021', '2022', '2023',\n",
       "       '2024'], dtype=object)"
      ]
     },
     "execution_count": 6,
     "metadata": {},
     "output_type": "execute_result"
    }
   ],
   "source": [
    "ipl_matches['season'].unique()"
   ]
  },
  {
   "cell_type": "code",
   "execution_count": 7,
   "id": "b9abef27-477e-4362-9415-0bc4a90d642c",
   "metadata": {},
   "outputs": [],
   "source": [
    "city_corrections = {'Bangalore':'Bengaluru'}\n",
    "#replace corrected city names with old names\n",
    "ipl_matches['city'] = ipl_matches['city'].replace(city_corrections)\n",
    "\n",
    "#replacing nan values with Unkown\n",
    "ipl_matches['city'] = ipl_matches['city'].fillna('Unknown')"
   ]
  },
  {
   "cell_type": "code",
   "execution_count": 8,
   "id": "9102fc07-7eb5-43b8-99fd-b83464c7f77f",
   "metadata": {},
   "outputs": [
    {
     "data": {
      "text/plain": [
       "array(['Bengaluru', 'Chandigarh', 'Delhi', 'Mumbai', 'Kolkata', 'Jaipur',\n",
       "       'Hyderabad', 'Chennai', 'Cape Town', 'Port Elizabeth', 'Durban',\n",
       "       'Centurion', 'East London', 'Johannesburg', 'Kimberley',\n",
       "       'Bloemfontein', 'Ahmedabad', 'Cuttack', 'Nagpur', 'Dharamsala',\n",
       "       'Kochi', 'Indore', 'Visakhapatnam', 'Pune', 'Raipur', 'Ranchi',\n",
       "       'Abu Dhabi', 'Unknown', 'Rajkot', 'Kanpur', 'Dubai', 'Sharjah',\n",
       "       'Navi Mumbai', 'Lucknow', 'Guwahati', 'Mohali'], dtype=object)"
      ]
     },
     "execution_count": 8,
     "metadata": {},
     "output_type": "execute_result"
    }
   ],
   "source": [
    "ipl_matches['city'].unique()"
   ]
  },
  {
   "cell_type": "code",
   "execution_count": 9,
   "id": "12d06dbf-b836-477b-86e4-3448af7ca1cc",
   "metadata": {},
   "outputs": [],
   "source": [
    "team_corrections = {'Royal Challengers Bangalore':'Royal Challengers Bengaluru','Kings XI Punjab':'Punjab Kings','Rising Pune Supergiants':'Rising Pune Supergiant'}\n",
    "#correcting team manes in team1,team2,toss_winner and winner columns\n",
    "ipl_matches['team1'] = ipl_matches['team1'].replace(team_corrections)\n",
    "ipl_matches['team2'] = ipl_matches['team2'].replace(team_corrections)\n",
    "ipl_matches['toss_winner'] = ipl_matches['toss_winner'].replace(team_corrections)\n",
    "ipl_matches['winner'] = ipl_matches['winner'].replace(team_corrections)"
   ]
  },
  {
   "cell_type": "code",
   "execution_count": 10,
   "id": "23dc78fd-4e01-4b23-8d34-cc3d101bf1a7",
   "metadata": {},
   "outputs": [
    {
     "data": {
      "text/plain": [
       "array(['Royal Challengers Bengaluru', 'Punjab Kings', 'Delhi Daredevils',\n",
       "       'Mumbai Indians', 'Kolkata Knight Riders', 'Rajasthan Royals',\n",
       "       'Deccan Chargers', 'Chennai Super Kings', 'Kochi Tuskers Kerala',\n",
       "       'Pune Warriors', 'Sunrisers Hyderabad', 'Gujarat Lions',\n",
       "       'Rising Pune Supergiant', 'Delhi Capitals', 'Lucknow Super Giants',\n",
       "       'Gujarat Titans'], dtype=object)"
      ]
     },
     "execution_count": 10,
     "metadata": {},
     "output_type": "execute_result"
    }
   ],
   "source": [
    "ipl_matches['team1'].unique()"
   ]
  },
  {
   "cell_type": "code",
   "execution_count": 11,
   "id": "ea91af65-1c45-46de-8a95-88ecf9ab9dd9",
   "metadata": {},
   "outputs": [],
   "source": [
    "ipl_matches['result_margin'] = ipl_matches['result_margin'].fillna(0)"
   ]
  },
  {
   "cell_type": "code",
   "execution_count": 12,
   "id": "4791d668-0d9e-4ba3-95ee-4d312a746e33",
   "metadata": {
    "scrolled": true
   },
   "outputs": [],
   "source": [
    "ipl_matches.loc[(ipl_matches['result']=='tie'),'method'] = 'Super Over'"
   ]
  },
  {
   "cell_type": "code",
   "execution_count": 14,
   "id": "887ab9f9-cf18-436c-8277-c728469cf2ea",
   "metadata": {},
   "outputs": [],
   "source": [
    "ipl_matches['method'] = ipl_matches['method'].fillna('Normal')"
   ]
  },
  {
   "cell_type": "code",
   "execution_count": 15,
   "id": "040dbd99-213e-482b-898b-bef022bb0735",
   "metadata": {},
   "outputs": [
    {
     "data": {
      "text/plain": [
       "array(['Normal', 'D/L', 'Super Over'], dtype=object)"
      ]
     },
     "execution_count": 15,
     "metadata": {},
     "output_type": "execute_result"
    }
   ],
   "source": [
    "ipl_matches['method'].unique()"
   ]
  },
  {
   "cell_type": "markdown",
   "id": "a04bb90b-d851-423f-9732-2271beaf493f",
   "metadata": {
    "jp-MarkdownHeadingCollapsed": true
   },
   "source": [
    "# Overall Analysis"
   ]
  },
  {
   "cell_type": "code",
   "execution_count": 16,
   "id": "f4019596-a90d-4ec5-9fbe-d2a86b8b653b",
   "metadata": {},
   "outputs": [
    {
     "data": {
      "text/plain": [
       "season\n",
       "2013    76\n",
       "2023    74\n",
       "2012    74\n",
       "2022    74\n",
       "2011    73\n",
       "2024    71\n",
       "2018    60\n",
       "2021    60\n",
       "2020    60\n",
       "2019    60\n",
       "2016    60\n",
       "2014    60\n",
       "2010    60\n",
       "2017    59\n",
       "2015    59\n",
       "2008    58\n",
       "2009    57\n",
       "Name: count, dtype: int64"
      ]
     },
     "execution_count": 16,
     "metadata": {},
     "output_type": "execute_result"
    }
   ],
   "source": [
    "#total no. of matches held in each season\n",
    "ipl_matches['season'].value_counts()\n",
    "#plt.figure(figsize=(3,3))\n",
    "#plt.bar(list(ipl_matches['season'].value_counts()[0:5].keys()),ipl_matches['season'].value_counts()[0:5])\n",
    "#plt.xlabel(\"Years\")\n",
    "#plt.ylabel(\"Number of matches\")\n",
    "#plt.show()"
   ]
  },
  {
   "cell_type": "code",
   "execution_count": 259,
   "id": "21313074-46e7-4214-846f-54a0665f5a87",
   "metadata": {},
   "outputs": [
    {
     "data": {
      "text/plain": [
       "venue\n",
       "Eden Gardens                                 77\n",
       "Wankhede Stadium                             73\n",
       "M Chinnaswamy Stadium                        65\n",
       "Feroz Shah Kotla                             60\n",
       "Rajiv Gandhi International Stadium, Uppal    49\n",
       "MA Chidambaram Stadium, Chepauk              48\n",
       "Sawai Mansingh Stadium                       47\n",
       "Name: count, dtype: int64"
      ]
     },
     "execution_count": 259,
     "metadata": {},
     "output_type": "execute_result"
    }
   ],
   "source": [
    "#Most matches played at a venue(top 5) \n",
    "ipl_matches['venue'].value_counts()[0:7]\n",
    "#plt.figure(figsize=(5,3))\n",
    "#plt.bar(list(ipl_matches['venue'].value_counts()[0:5].keys()),list(ipl_matches['venue'].value_counts()[0:5]),color = [\"purple\",\"blue\",\"red\",\"black\",\"orange\"])\n",
    "#plt.xlabel(\"Stadiums\")\n",
    "#plt.ylabel(\"Number of matches\")\n",
    "#plt.xticks(rotation = 50)\n",
    "#plt.show()"
   ]
  },
  {
   "cell_type": "code",
   "execution_count": 18,
   "id": "385505b6-ff3d-44ec-8756-a298874a03c4",
   "metadata": {},
   "outputs": [
    {
     "data": {
      "text/plain": [
       "Mumbai Indians                 261\n",
       "Royal Challengers Bengaluru    255\n",
       "Kolkata Knight Riders          251\n",
       "Punjab Kings                   246\n",
       "Chennai Super Kings            238\n",
       "Name: count, dtype: int64"
      ]
     },
     "execution_count": 18,
     "metadata": {},
     "output_type": "execute_result"
    }
   ],
   "source": [
    "#Total Matches played by each team\n",
    "total_matches = pd.concat([ipl_matches['team1'],ipl_matches['team2']])\n",
    "total_matches.value_counts()[0:5]"
   ]
  },
  {
   "cell_type": "code",
   "execution_count": 19,
   "id": "e8d906b0-6ed6-448d-ac9b-1499f0abdea9",
   "metadata": {},
   "outputs": [
    {
     "data": {
      "text/plain": [
       "winner\n",
       "Mumbai Indians                 144\n",
       "Chennai Super Kings            138\n",
       "Kolkata Knight Riders          131\n",
       "Royal Challengers Bengaluru    123\n",
       "Rajasthan Royals               112\n",
       "Name: count, dtype: int64"
      ]
     },
     "execution_count": 19,
     "metadata": {},
     "output_type": "execute_result"
    }
   ],
   "source": [
    "#Matches won by each team\n",
    "ipl_matches['winner'].value_counts()[0:5]"
   ]
  },
  {
   "cell_type": "code",
   "execution_count": 20,
   "id": "d47a657e-f3f9-4897-8806-56b5a641fc7e",
   "metadata": {},
   "outputs": [
    {
     "name": "stdout",
     "output_type": "stream",
     "text": [
      "Gujarat Titans          62.222222\n",
      "Chennai Super Kings     57.983193\n",
      "Mumbai Indians          55.172414\n",
      "Lucknow Super Giants    54.545455\n",
      "Delhi Capitals          52.747253\n",
      "Name: count, dtype: float64\n"
     ]
    }
   ],
   "source": [
    "#Calculate win percentage\n",
    "percentage_win = (ipl_matches['winner'].value_counts()/total_matches.value_counts())*100\n",
    "print(percentage_win.sort_values(ascending = False)[0:5])"
   ]
  },
  {
   "cell_type": "code",
   "execution_count": 395,
   "id": "721128be-564f-43eb-b0ab-71ebb3361f03",
   "metadata": {},
   "outputs": [],
   "source": [
    "#ipl_matches.head(10)"
   ]
  },
  {
   "cell_type": "code",
   "execution_count": 22,
   "id": "faad6dd5-60bf-482d-8bfc-7eee9355a24f",
   "metadata": {},
   "outputs": [
    {
     "data": {
      "text/plain": [
       "toss_winner\n",
       "Mumbai Indians                 143\n",
       "Chennai Super Kings            122\n",
       "Kolkata Knight Riders          122\n",
       "Royal Challengers Bengaluru    121\n",
       "Rajasthan Royals               120\n",
       "Name: count, dtype: int64"
      ]
     },
     "execution_count": 22,
     "metadata": {},
     "output_type": "execute_result"
    }
   ],
   "source": [
    "#Toss wins w.r.t. teams\n",
    "ipl_matches['toss_winner'].value_counts()[0:5]"
   ]
  },
  {
   "cell_type": "code",
   "execution_count": 23,
   "id": "78c0707b-37d7-4332-8483-d0455e527b7c",
   "metadata": {},
   "outputs": [
    {
     "data": {
      "text/plain": [
       "554"
      ]
     },
     "execution_count": 23,
     "metadata": {},
     "output_type": "execute_result"
    }
   ],
   "source": [
    "#No. of times a team has won after winning the toss\n",
    "np.sum(ipl_matches['toss_winner'] == ipl_matches['winner'])"
   ]
  },
  {
   "cell_type": "code",
   "execution_count": 24,
   "id": "b84e30a7-cd65-4490-adc5-5fcd0c2bf013",
   "metadata": {},
   "outputs": [
    {
     "name": "stdout",
     "output_type": "stream",
     "text": [
      "0.5059360730593607\n"
     ]
    }
   ],
   "source": [
    "#Probability a toss winner wins a match at IPL\n",
    "print(554/1095)"
   ]
  },
  {
   "cell_type": "code",
   "execution_count": 25,
   "id": "8947b92c-d162-4a68-a0c3-374fd0d2a605",
   "metadata": {},
   "outputs": [
    {
     "data": {
      "text/plain": [
       "winner\n",
       "Chennai Super Kings            71\n",
       "Mumbai Indians                 71\n",
       "Royal Challengers Bengaluru    57\n",
       "Kolkata Knight Riders          54\n",
       "Punjab Kings                   51\n",
       "Name: count, dtype: int64"
      ]
     },
     "execution_count": 25,
     "metadata": {},
     "output_type": "execute_result"
    }
   ],
   "source": [
    "#Teams who batted first and won\n",
    "batting_first = ipl_matches[ipl_matches['result'] == 'runs']\n",
    "#Teams who won after batting first\n",
    "batting_first['winner'].value_counts()[0:5]"
   ]
  },
  {
   "cell_type": "code",
   "execution_count": 26,
   "id": "c024d8f2-08d6-48c3-9704-33aba7abcabf",
   "metadata": {},
   "outputs": [
    {
     "data": {
      "text/plain": [
       "winner\n",
       "Kolkata Knight Riders          76\n",
       "Mumbai Indians                 71\n",
       "Rajasthan Royals               67\n",
       "Chennai Super Kings            67\n",
       "Royal Challengers Bengaluru    64\n",
       "Name: count, dtype: int64"
      ]
     },
     "execution_count": 26,
     "metadata": {},
     "output_type": "execute_result"
    }
   ],
   "source": [
    "#Teams who batted second and won\n",
    "batting_second = ipl_matches[ipl_matches['result'] == 'wickets']\n",
    "#Teams who won after batting second\n",
    "batting_second['winner'].value_counts()[0:5]"
   ]
  },
  {
   "cell_type": "code",
   "execution_count": 396,
   "id": "6f519c8e-c85e-4bf8-aa0f-a187bfa3cec0",
   "metadata": {
    "scrolled": true
   },
   "outputs": [],
   "source": [
    "#ipl_balls.head(10)"
   ]
  },
  {
   "cell_type": "code",
   "execution_count": 28,
   "id": "2547ad0c-88fc-4ece-91cc-7bbe8690df91",
   "metadata": {},
   "outputs": [
    {
     "data": {
      "text/plain": [
       "(260920, 17)"
      ]
     },
     "execution_count": 28,
     "metadata": {},
     "output_type": "execute_result"
    }
   ],
   "source": [
    "ipl_balls.shape"
   ]
  },
  {
   "cell_type": "code",
   "execution_count": 29,
   "id": "a8b7b08c-25f2-4d35-8a01-8e108a19ca58",
   "metadata": {},
   "outputs": [],
   "source": [
    "#team_corrections = {'Royal Challengers Bangalore':'Royal Challengers Bengaluru','Kings XI Punjab':'Punjab Kings','Rising Pune Supergiants':'Rising Pune Supergiant'}\n",
    "ipl_balls['batting_team'] = ipl_balls['batting_team'].replace(team_corrections)\n",
    "ipl_balls['bowling_team'] = ipl_balls['bowling_team'].replace(team_corrections)"
   ]
  },
  {
   "cell_type": "code",
   "execution_count": 31,
   "id": "a7494276-08bc-44ac-b77e-e1dba1c0987d",
   "metadata": {},
   "outputs": [],
   "source": [
    "completed_matches = ipl_matches[ipl_matches['winner'].notna()]\n",
    "#completed_matches.head()\n",
    "completed_balls = ipl_balls[ipl_balls['match_id'].isin(completed_matches['id'])]\n",
    "#completed_balls.head()\n",
    "not_super_overs = completed_balls[completed_balls['inning'] <= 2]"
   ]
  },
  {
   "cell_type": "code",
   "execution_count": 32,
   "id": "59bec2cd-a9cc-4b38-b52f-1607be3ea452",
   "metadata": {},
   "outputs": [
    {
     "data": {
      "text/plain": [
       "match_id  inning  batting_team         bowling_team               \n",
       "1426268   1       Sunrisers Hyderabad  Royal Challengers Bengaluru    287\n",
       "Name: total_runs, dtype: int64"
      ]
     },
     "execution_count": 32,
     "metadata": {},
     "output_type": "execute_result"
    }
   ],
   "source": [
    "#Highest runs scored by a team\n",
    "not_super_overs.groupby(['match_id','inning','batting_team','bowling_team'])['total_runs'].sum().sort_values(ascending = False).head(1)"
   ]
  },
  {
   "cell_type": "code",
   "execution_count": 33,
   "id": "0ecdf141-0eb7-43fd-9775-27a899d644d0",
   "metadata": {},
   "outputs": [
    {
     "data": {
      "text/plain": [
       "match_id  inning  batting_team         bowling_team    \n",
       "733993    2       Sunrisers Hyderabad  Delhi Daredevils    44\n",
       "Name: total_runs, dtype: int64"
      ]
     },
     "execution_count": 33,
     "metadata": {},
     "output_type": "execute_result"
    }
   ],
   "source": [
    "#Lowest runs scored by a team\n",
    "not_super_overs.groupby(['match_id','inning','batting_team','bowling_team'])['total_runs'].sum().sort_values().head(1)"
   ]
  },
  {
   "cell_type": "code",
   "execution_count": 34,
   "id": "297198e1-9305-4fd7-af09-e2494ec8ae41",
   "metadata": {},
   "outputs": [],
   "source": [
    "first_inning = completed_balls[completed_balls['inning'] < 2]"
   ]
  },
  {
   "cell_type": "code",
   "execution_count": 35,
   "id": "d77b7058-f094-4578-8884-8ff746b2c66b",
   "metadata": {},
   "outputs": [
    {
     "data": {
      "text/plain": [
       "match_id  inning  batting_team         bowling_team               \n",
       "1426268   1       Sunrisers Hyderabad  Royal Challengers Bengaluru    287\n",
       "Name: total_runs, dtype: int64"
      ]
     },
     "execution_count": 35,
     "metadata": {},
     "output_type": "execute_result"
    }
   ],
   "source": [
    "#Highest team score in the first inning\n",
    "first_inning.groupby(['match_id','inning','batting_team','bowling_team'])['total_runs'].sum().sort_values(ascending = False).head(1)"
   ]
  },
  {
   "cell_type": "code",
   "execution_count": 36,
   "id": "c0da0bb8-5014-45d9-8445-488dad898556",
   "metadata": {},
   "outputs": [
    {
     "data": {
      "text/plain": [
       "match_id  inning  batting_team      bowling_team\n",
       "1082626   1       Delhi Daredevils  Punjab Kings    67\n",
       "Name: total_runs, dtype: int64"
      ]
     },
     "execution_count": 36,
     "metadata": {},
     "output_type": "execute_result"
    }
   ],
   "source": [
    "#Lowest team score in the first inning\n",
    "first_inning.groupby(['match_id','inning','batting_team','bowling_team'])['total_runs'].sum().sort_values().head(1)"
   ]
  },
  {
   "cell_type": "code",
   "execution_count": 37,
   "id": "2a105d1a-104f-41f9-a35f-575dca60a039",
   "metadata": {},
   "outputs": [],
   "source": [
    "second_inning = completed_balls[completed_balls['inning'] == 2]"
   ]
  },
  {
   "cell_type": "code",
   "execution_count": 38,
   "id": "067a47ff-06ff-4221-82ce-faccc33a6ec9",
   "metadata": {},
   "outputs": [
    {
     "data": {
      "text/plain": [
       "match_id  inning  batting_team  bowling_team         \n",
       "1426280   2       Punjab Kings  Kolkata Knight Riders    262\n",
       "Name: total_runs, dtype: int64"
      ]
     },
     "execution_count": 38,
     "metadata": {},
     "output_type": "execute_result"
    }
   ],
   "source": [
    "#Highest team score in the second inning\n",
    "second_inning.groupby(['match_id','inning','batting_team','bowling_team'])['total_runs'].sum().sort_values(ascending = False).head(1)"
   ]
  },
  {
   "cell_type": "code",
   "execution_count": 257,
   "id": "98f09537-1659-4a66-831e-952953517b8a",
   "metadata": {},
   "outputs": [
    {
     "data": {
      "text/plain": [
       "match_id  inning  batting_team         bowling_team    \n",
       "733993    2       Sunrisers Hyderabad  Delhi Daredevils    44\n",
       "Name: total_runs, dtype: int64"
      ]
     },
     "execution_count": 257,
     "metadata": {},
     "output_type": "execute_result"
    }
   ],
   "source": [
    "#Lowest team score in the second inning\n",
    "second_inning.groupby(['match_id','inning','batting_team','bowling_team'])['total_runs'].sum().sort_values().head(1)"
   ]
  },
  {
   "cell_type": "markdown",
   "id": "4c3aec5f-5345-4335-940d-e7707b04487a",
   "metadata": {
    "jp-MarkdownHeadingCollapsed": true
   },
   "source": [
    "# Batting Analysis"
   ]
  },
  {
   "cell_type": "code",
   "execution_count": 70,
   "id": "5491e653-7d6b-4f76-9c2b-9457474c4643",
   "metadata": {},
   "outputs": [],
   "source": [
    "batsman_stats = ipl_balls.groupby(['batter']).agg({\n",
    "    'batsman_runs' : 'sum',\n",
    "    'extra_runs' : 'sum',\n",
    "    'total_runs' : 'sum'\n",
    "}).reset_index()\n",
    "\n",
    "#Legal deliveries faced by a batsman \n",
    "legal_deliveries = ipl_balls[ipl_balls['extras_type'] != 'wides']\n",
    "balls_faced = legal_deliveries.groupby('batter').size().reset_index(name = 'balls_faced')\n",
    "\n",
    "#Innings played by a player\n",
    "player_innings = ipl_balls.groupby(['match_id','inning','batter']).size().reset_index(name = 'balls')\n",
    "innings_count = player_innings.groupby('batter').size().reset_index(name = 'innings_played')\n",
    "\n",
    "batter_stats = pd.merge(batsman_stats, balls_faced, on = 'batter', how = 'left')\n",
    "batter_stats = batter_stats.merge(innings_count,on = 'batter',how = 'left')"
   ]
  },
  {
   "cell_type": "code",
   "execution_count": 71,
   "id": "61dd9f62-23e8-493c-bb78-69a89eb35422",
   "metadata": {},
   "outputs": [
    {
     "name": "stdout",
     "output_type": "stream",
     "text": [
      "['batter', 'batsman_runs', 'extra_runs', 'total_runs', 'balls_faced', 'innings_played']\n"
     ]
    }
   ],
   "source": [
    "print(list(batter_stats.columns))"
   ]
  },
  {
   "cell_type": "code",
   "execution_count": 72,
   "id": "37f8c858-e434-4e3f-8eaf-41e5c675154b",
   "metadata": {},
   "outputs": [],
   "source": [
    "#Half-centuries and Centuries scored by a player\n",
    "innings_scores = ipl_balls.groupby(['match_id','inning','batter'])['batsman_runs'].sum().reset_index()\n",
    "innings_scores['is_half_centuries'] = innings_scores['batsman_runs'].between(50,99)\n",
    "innings_scores['is_centuries'] = innings_scores['batsman_runs'] >= 100\n",
    "milestone = innings_scores.groupby('batter').agg({\n",
    "    'is_half_centuries' : 'sum',\n",
    "    'is_centuries' : 'sum'\n",
    "}).reset_index().rename(columns = {\n",
    "    'is_half_centuries' : 'half-centuries',\n",
    "    'is_centuries' : 'centuries'\n",
    "})\n",
    "batter_stats = batter_stats.merge(milestone, on = 'batter',how = 'left')"
   ]
  },
  {
   "cell_type": "code",
   "execution_count": 73,
   "id": "48736d9c-883f-4271-b86f-89d832a51cce",
   "metadata": {},
   "outputs": [
    {
     "name": "stdout",
     "output_type": "stream",
     "text": [
      "['batter', 'batsman_runs', 'extra_runs', 'total_runs', 'balls_faced', 'innings_played', 'half-centuries', 'centuries']\n"
     ]
    }
   ],
   "source": [
    "print(list(batter_stats.columns))"
   ]
  },
  {
   "cell_type": "code",
   "execution_count": 74,
   "id": "6cdcc057-c9d1-4ca2-9d73-2b9093f89087",
   "metadata": {},
   "outputs": [],
   "source": [
    "#High score of a batsman\n",
    "innings_scores = ipl_balls.groupby(['match_id','inning','batter'])['batsman_runs'].sum().reset_index()\n",
    "high_score = innings_scores.groupby('batter')['batsman_runs'].max().reset_index()\n",
    "high_score.rename(columns = {'batsman_runs':'high_score'},inplace = True)\n",
    "batter_stats = batter_stats.merge(high_score, on='batter', how='left')"
   ]
  },
  {
   "cell_type": "code",
   "execution_count": 75,
   "id": "686ff425-05a9-4c8c-8b8e-8d743c9ebabd",
   "metadata": {},
   "outputs": [
    {
     "name": "stdout",
     "output_type": "stream",
     "text": [
      "['batter', 'batsman_runs', 'extra_runs', 'total_runs', 'balls_faced', 'innings_played', 'half-centuries', 'centuries', 'high_score']\n"
     ]
    }
   ],
   "source": [
    "print(list(batter_stats.columns))"
   ]
  },
  {
   "cell_type": "code",
   "execution_count": 90,
   "id": "dc8fc193-362c-4371-8173-a9cab040aa97",
   "metadata": {},
   "outputs": [],
   "source": [
    "#To drop high_score_x, high_score_y and make it a single column high_score\n",
    "batter_stats = batter_stats.drop(columns=['high_score_x','high_score_y'])\n",
    "batter_stats = batter_stats.rename(columns={'high_score':'high_score'})"
   ]
  },
  {
   "cell_type": "code",
   "execution_count": 77,
   "id": "54fc4315-0c6e-48eb-8cec-377d051c67fb",
   "metadata": {},
   "outputs": [
    {
     "name": "stdin",
     "output_type": "stream",
     "text": [
      "Enter the Player Name:  MS Dhoni\n"
     ]
    },
    {
     "name": "stdout",
     "output_type": "stream",
     "text": [
      "     innings_played    batter  batsman_runs  half-centuries  centuries  \\\n",
      "374             228  MS Dhoni          5243              24          0   \n",
      "\n",
      "     high_score  \n",
      "374          84  \n"
     ]
    }
   ],
   "source": [
    "#Enter a player name and his details\n",
    "player_name = input(\"Enter the Player Name: \")\n",
    "player_stats = batter_stats[batter_stats['batter'] == player_name]\n",
    "if not player_stats.empty:\n",
    "    print(player_stats[['innings_played','batter','batsman_runs','half-centuries','centuries','high_score']])\n",
    "else:\n",
    "    print(f\"Player {player_name} not found in the data.\")"
   ]
  },
  {
   "cell_type": "code",
   "execution_count": 78,
   "id": "aa355793-bbe5-458b-aecd-abd3481f2dbe",
   "metadata": {},
   "outputs": [],
   "source": [
    "batter_stats = batter_stats[['batter','innings_played','batsman_runs','balls_faced','half-centuries','centuries','high_score']]"
   ]
  },
  {
   "cell_type": "code",
   "execution_count": 79,
   "id": "b6003f2f-6918-46d9-9f88-33a79846d813",
   "metadata": {},
   "outputs": [
    {
     "name": "stdout",
     "output_type": "stream",
     "text": [
      "['batter', 'innings_played', 'batsman_runs', 'balls_faced', 'half-centuries', 'centuries', 'high_score']\n"
     ]
    }
   ],
   "source": [
    "print(list(batter_stats.columns))"
   ]
  },
  {
   "cell_type": "code",
   "execution_count": 85,
   "id": "1ca78272-f0b2-462a-ae4e-b8a4faf27b46",
   "metadata": {},
   "outputs": [
    {
     "data": {
      "text/html": [
       "<div>\n",
       "<style scoped>\n",
       "    .dataframe tbody tr th:only-of-type {\n",
       "        vertical-align: middle;\n",
       "    }\n",
       "\n",
       "    .dataframe tbody tr th {\n",
       "        vertical-align: top;\n",
       "    }\n",
       "\n",
       "    .dataframe thead th {\n",
       "        text-align: right;\n",
       "    }\n",
       "</style>\n",
       "<table border=\"1\" class=\"dataframe\">\n",
       "  <thead>\n",
       "    <tr style=\"text-align: right;\">\n",
       "      <th></th>\n",
       "      <th>batter</th>\n",
       "      <th>innings_played</th>\n",
       "      <th>batsman_runs</th>\n",
       "      <th>balls_faced</th>\n",
       "      <th>half-centuries</th>\n",
       "      <th>centuries</th>\n",
       "      <th>high_score</th>\n",
       "      <th>SR</th>\n",
       "    </tr>\n",
       "  </thead>\n",
       "  <tbody>\n",
       "    <tr>\n",
       "      <th>631</th>\n",
       "      <td>V Kohli</td>\n",
       "      <td>246</td>\n",
       "      <td>8014</td>\n",
       "      <td>6069</td>\n",
       "      <td>55</td>\n",
       "      <td>8</td>\n",
       "      <td>113</td>\n",
       "      <td>132.05</td>\n",
       "    </tr>\n",
       "  </tbody>\n",
       "</table>\n",
       "</div>"
      ],
      "text/plain": [
       "      batter  innings_played  batsman_runs  balls_faced  half-centuries  \\\n",
       "631  V Kohli             246          8014         6069              55   \n",
       "\n",
       "     centuries  high_score      SR  \n",
       "631          8         113  132.05  "
      ]
     },
     "execution_count": 85,
     "metadata": {},
     "output_type": "execute_result"
    }
   ],
   "source": [
    "#Most runs scored by a batsman in IPL history\n",
    "batter_stats.sort_values(by = 'batsman_runs', ascending = False).head(1)"
   ]
  },
  {
   "cell_type": "code",
   "execution_count": 86,
   "id": "36c9f97f-2d6c-46f4-b85d-d0abe4e65b74",
   "metadata": {},
   "outputs": [
    {
     "data": {
      "text/html": [
       "<div>\n",
       "<style scoped>\n",
       "    .dataframe tbody tr th:only-of-type {\n",
       "        vertical-align: middle;\n",
       "    }\n",
       "\n",
       "    .dataframe tbody tr th {\n",
       "        vertical-align: top;\n",
       "    }\n",
       "\n",
       "    .dataframe thead th {\n",
       "        text-align: right;\n",
       "    }\n",
       "</style>\n",
       "<table border=\"1\" class=\"dataframe\">\n",
       "  <thead>\n",
       "    <tr style=\"text-align: right;\">\n",
       "      <th></th>\n",
       "      <th>batter</th>\n",
       "      <th>innings_played</th>\n",
       "      <th>batsman_runs</th>\n",
       "      <th>balls_faced</th>\n",
       "      <th>half-centuries</th>\n",
       "      <th>centuries</th>\n",
       "      <th>high_score</th>\n",
       "      <th>SR</th>\n",
       "    </tr>\n",
       "  </thead>\n",
       "  <tbody>\n",
       "    <tr>\n",
       "      <th>147</th>\n",
       "      <td>DA Warner</td>\n",
       "      <td>187</td>\n",
       "      <td>6567</td>\n",
       "      <td>4702</td>\n",
       "      <td>62</td>\n",
       "      <td>4</td>\n",
       "      <td>126</td>\n",
       "      <td>139.66</td>\n",
       "    </tr>\n",
       "  </tbody>\n",
       "</table>\n",
       "</div>"
      ],
      "text/plain": [
       "        batter  innings_played  batsman_runs  balls_faced  half-centuries  \\\n",
       "147  DA Warner             187          6567         4702              62   \n",
       "\n",
       "     centuries  high_score      SR  \n",
       "147          4         126  139.66  "
      ]
     },
     "execution_count": 86,
     "metadata": {},
     "output_type": "execute_result"
    }
   ],
   "source": [
    "#Most IPL 50s by a batsman\n",
    "batter_stats.sort_values(by = 'half-centuries', ascending = False).head(1)"
   ]
  },
  {
   "cell_type": "code",
   "execution_count": 87,
   "id": "a2562aef-bbfe-44ef-a80d-1a647bb06c1c",
   "metadata": {},
   "outputs": [
    {
     "data": {
      "text/html": [
       "<div>\n",
       "<style scoped>\n",
       "    .dataframe tbody tr th:only-of-type {\n",
       "        vertical-align: middle;\n",
       "    }\n",
       "\n",
       "    .dataframe tbody tr th {\n",
       "        vertical-align: top;\n",
       "    }\n",
       "\n",
       "    .dataframe thead th {\n",
       "        text-align: right;\n",
       "    }\n",
       "</style>\n",
       "<table border=\"1\" class=\"dataframe\">\n",
       "  <thead>\n",
       "    <tr style=\"text-align: right;\">\n",
       "      <th></th>\n",
       "      <th>batter</th>\n",
       "      <th>innings_played</th>\n",
       "      <th>batsman_runs</th>\n",
       "      <th>balls_faced</th>\n",
       "      <th>half-centuries</th>\n",
       "      <th>centuries</th>\n",
       "      <th>high_score</th>\n",
       "      <th>SR</th>\n",
       "    </tr>\n",
       "  </thead>\n",
       "  <tbody>\n",
       "    <tr>\n",
       "      <th>631</th>\n",
       "      <td>V Kohli</td>\n",
       "      <td>246</td>\n",
       "      <td>8014</td>\n",
       "      <td>6069</td>\n",
       "      <td>55</td>\n",
       "      <td>8</td>\n",
       "      <td>113</td>\n",
       "      <td>132.05</td>\n",
       "    </tr>\n",
       "  </tbody>\n",
       "</table>\n",
       "</div>"
      ],
      "text/plain": [
       "      batter  innings_played  batsman_runs  balls_faced  half-centuries  \\\n",
       "631  V Kohli             246          8014         6069              55   \n",
       "\n",
       "     centuries  high_score      SR  \n",
       "631          8         113  132.05  "
      ]
     },
     "execution_count": 87,
     "metadata": {},
     "output_type": "execute_result"
    }
   ],
   "source": [
    "#Most IPL 100s by a batsman\n",
    "batter_stats.sort_values(by = 'centuries', ascending = False).head(1)"
   ]
  },
  {
   "cell_type": "code",
   "execution_count": 107,
   "id": "f35fa8c4-1612-417e-b8e0-d4caafaaabb4",
   "metadata": {},
   "outputs": [],
   "source": [
    "batter_stats = batter_stats.merge(balls_faced, on='batter',how='left')"
   ]
  },
  {
   "cell_type": "code",
   "execution_count": 109,
   "id": "4e9f3a6e-f590-4a08-8438-1845160c1328",
   "metadata": {},
   "outputs": [],
   "source": [
    "#To drop balls_faced_x, balls_faced_y and make it a single column balls_faced\n",
    "batter_stats = batter_stats.drop(columns = ['balls_faced_x','balls_faced_y'])\n",
    "batter_stats = batter_stats.rename(columns={'high_score':'high_score'})"
   ]
  },
  {
   "cell_type": "code",
   "execution_count": 112,
   "id": "c13b33ca-97d5-4bed-8b05-ecd2c2e17eb4",
   "metadata": {},
   "outputs": [],
   "source": [
    "batter_stats = batter_stats.merge(high_score,on='batter',how='left')"
   ]
  },
  {
   "cell_type": "code",
   "execution_count": 83,
   "id": "c0ef6ffb-c299-424d-b722-e924a84d7c28",
   "metadata": {},
   "outputs": [],
   "source": [
    "#Strike Rate of a batsman\n",
    "batter_stats['SR'] = (batter_stats['batsman_runs']/batter_stats['balls_faced'])*100\n",
    "batter_stats['SR'] = batter_stats['SR'].round(2)"
   ]
  },
  {
   "cell_type": "code",
   "execution_count": 84,
   "id": "4eb2753f-0c0f-4368-842b-b1b74760e529",
   "metadata": {},
   "outputs": [
    {
     "name": "stdout",
     "output_type": "stream",
     "text": [
      "['batter', 'innings_played', 'batsman_runs', 'balls_faced', 'half-centuries', 'centuries', 'high_score', 'SR']\n"
     ]
    }
   ],
   "source": [
    "print(list(batter_stats.columns))"
   ]
  },
  {
   "cell_type": "code",
   "execution_count": 88,
   "id": "9e233ebb-30f0-4fde-8a4c-ecd87c1e3645",
   "metadata": {},
   "outputs": [],
   "source": [
    "ipl_balls = ipl_balls.merge(ipl_matches[['id','season']], left_on='match_id', right_on='id', how = 'left')\n",
    "ipl_balls.drop(columns = ['id'],inplace = True)\n",
    "#ipl_balls = ipl_balls.drop(columns = ['id_x', 'season_x', 'id_y', 'season_y'])"
   ]
  },
  {
   "cell_type": "code",
   "execution_count": 89,
   "id": "9bf32b04-95c5-4ce7-8094-9171aecb5ad6",
   "metadata": {},
   "outputs": [
    {
     "name": "stdout",
     "output_type": "stream",
     "text": [
      "['match_id', 'inning', 'batting_team', 'bowling_team', 'over', 'ball', 'batter', 'bowler', 'non_striker', 'batsman_runs', 'extra_runs', 'total_runs', 'extras_type', 'is_wicket', 'player_dismissed', 'dismissal_kind', 'fielder', 'season']\n"
     ]
    }
   ],
   "source": [
    "print(list(ipl_balls.columns))"
   ]
  },
  {
   "cell_type": "code",
   "execution_count": 131,
   "id": "0376d907-6fa3-49c1-be41-dbf5b9d46400",
   "metadata": {},
   "outputs": [
    {
     "name": "stdin",
     "output_type": "stream",
     "text": [
      "Enter the season:  2019\n"
     ]
    },
    {
     "data": {
      "text/plain": [
       "'Orange Cap Holder for 2019 : DA Warner - 692 runs'"
      ]
     },
     "execution_count": 131,
     "metadata": {},
     "output_type": "execute_result"
    }
   ],
   "source": [
    "#Orange Cap holder in each season\n",
    "def orange_cap_holder(ipl_balls,year):\n",
    "    season_data = ipl_balls[ipl_balls['season'] == year]\n",
    "    if season_data.empty:\n",
    "        return f\"No data available for season {year}\"\n",
    "    else:\n",
    "        season_runs = season_data.groupby('batter')['batsman_runs'].sum().reset_index()\n",
    "        top_scorer = season_runs.sort_values(by='batsman_runs',ascending = False).iloc[0]\n",
    "        return f\"Orange Cap Holder for {year} : {top_scorer['batter']} - {top_scorer['batsman_runs']} runs\"\n",
    "\n",
    "year = input(\"Enter the season: \")\n",
    "orange_cap_holder(ipl_balls,year)"
   ]
  },
  {
   "cell_type": "code",
   "execution_count": 172,
   "id": "aff6b0c7-e84d-47b5-b1c3-625a9b068277",
   "metadata": {},
   "outputs": [],
   "source": [
    "#Count number of 4s and 6s by each team\n",
    "boundaries = ipl_balls[ipl_balls['batsman_runs'].isin({4,6})]\n",
    "boundary_counts = boundaries.groupby(['season','batting_team'])['batsman_runs'].size().reset_index(name = 'count')\n",
    "\n",
    "fours = boundaries[boundaries['batsman_runs'] == 4].groupby(['season','batting_team']).size().reset_index()\n",
    "sixes = boundaries[boundaries['batsman_runs'] == 6].groupby(['season','batting_team']).size().reset_index()\n",
    "\n",
    "boundaries_summary = pd.merge(fours,sixes,on = ['season','batting_team'], how = 'outer').fillna(0)\n",
    "\n",
    "boundaries_summary = boundaries_summary.rename(columns = {'0_x':'fours', '0_y':'sixes'})\n",
    "\n",
    "boundaries_summary['fours'] = boundaries_summary['fours'].astype(int)\n",
    "boundaries_summary['sixes'] = boundaries_summary['sixes'].astype(int)\n",
    "\n",
    "boundaries_summary['total_boundaries'] = boundaries_summary['fours'] + boundaries_summary['sixes']"
   ]
  },
  {
   "cell_type": "code",
   "execution_count": 199,
   "id": "ac518b4c-4c74-48f9-a172-a8b22fec32d2",
   "metadata": {},
   "outputs": [
    {
     "name": "stdin",
     "output_type": "stream",
     "text": [
      "Enter season(2008 - 2024):   2023\n"
     ]
    }
   ],
   "source": [
    "season = input(\"Enter season(2008 - 2024):  \")\n",
    "season_data = boundaries_summary[boundaries_summary['season'] == season]"
   ]
  },
  {
   "cell_type": "code",
   "execution_count": 200,
   "id": "4c9688db-a068-4c04-8bcd-73aa7c7fc698",
   "metadata": {},
   "outputs": [
    {
     "data": {
      "text/html": [
       "<div>\n",
       "<style scoped>\n",
       "    .dataframe tbody tr th:only-of-type {\n",
       "        vertical-align: middle;\n",
       "    }\n",
       "\n",
       "    .dataframe tbody tr th {\n",
       "        vertical-align: top;\n",
       "    }\n",
       "\n",
       "    .dataframe thead th {\n",
       "        text-align: right;\n",
       "    }\n",
       "</style>\n",
       "<table border=\"1\" class=\"dataframe\">\n",
       "  <thead>\n",
       "    <tr style=\"text-align: right;\">\n",
       "      <th></th>\n",
       "      <th>season</th>\n",
       "      <th>batting_team</th>\n",
       "      <th>fours</th>\n",
       "      <th>sixes</th>\n",
       "      <th>total_boundaries</th>\n",
       "    </tr>\n",
       "  </thead>\n",
       "  <tbody>\n",
       "    <tr>\n",
       "      <th>126</th>\n",
       "      <td>2023</td>\n",
       "      <td>Chennai Super Kings</td>\n",
       "      <td>197</td>\n",
       "      <td>133</td>\n",
       "      <td>330</td>\n",
       "    </tr>\n",
       "    <tr>\n",
       "      <th>127</th>\n",
       "      <td>2023</td>\n",
       "      <td>Delhi Capitals</td>\n",
       "      <td>210</td>\n",
       "      <td>67</td>\n",
       "      <td>277</td>\n",
       "    </tr>\n",
       "    <tr>\n",
       "      <th>128</th>\n",
       "      <td>2023</td>\n",
       "      <td>Gujarat Titans</td>\n",
       "      <td>258</td>\n",
       "      <td>124</td>\n",
       "      <td>382</td>\n",
       "    </tr>\n",
       "    <tr>\n",
       "      <th>129</th>\n",
       "      <td>2023</td>\n",
       "      <td>Kolkata Knight Riders</td>\n",
       "      <td>202</td>\n",
       "      <td>125</td>\n",
       "      <td>327</td>\n",
       "    </tr>\n",
       "    <tr>\n",
       "      <th>130</th>\n",
       "      <td>2023</td>\n",
       "      <td>Lucknow Super Giants</td>\n",
       "      <td>183</td>\n",
       "      <td>115</td>\n",
       "      <td>298</td>\n",
       "    </tr>\n",
       "    <tr>\n",
       "      <th>131</th>\n",
       "      <td>2023</td>\n",
       "      <td>Mumbai Indians</td>\n",
       "      <td>265</td>\n",
       "      <td>140</td>\n",
       "      <td>405</td>\n",
       "    </tr>\n",
       "    <tr>\n",
       "      <th>132</th>\n",
       "      <td>2023</td>\n",
       "      <td>Punjab Kings</td>\n",
       "      <td>227</td>\n",
       "      <td>117</td>\n",
       "      <td>344</td>\n",
       "    </tr>\n",
       "    <tr>\n",
       "      <th>133</th>\n",
       "      <td>2023</td>\n",
       "      <td>Rajasthan Royals</td>\n",
       "      <td>215</td>\n",
       "      <td>112</td>\n",
       "      <td>327</td>\n",
       "    </tr>\n",
       "    <tr>\n",
       "      <th>134</th>\n",
       "      <td>2023</td>\n",
       "      <td>Royal Challengers Bengaluru</td>\n",
       "      <td>202</td>\n",
       "      <td>107</td>\n",
       "      <td>309</td>\n",
       "    </tr>\n",
       "    <tr>\n",
       "      <th>135</th>\n",
       "      <td>2023</td>\n",
       "      <td>Sunrisers Hyderabad</td>\n",
       "      <td>216</td>\n",
       "      <td>84</td>\n",
       "      <td>300</td>\n",
       "    </tr>\n",
       "  </tbody>\n",
       "</table>\n",
       "</div>"
      ],
      "text/plain": [
       "    season                 batting_team  fours  sixes  total_boundaries\n",
       "126   2023          Chennai Super Kings    197    133               330\n",
       "127   2023               Delhi Capitals    210     67               277\n",
       "128   2023               Gujarat Titans    258    124               382\n",
       "129   2023        Kolkata Knight Riders    202    125               327\n",
       "130   2023         Lucknow Super Giants    183    115               298\n",
       "131   2023               Mumbai Indians    265    140               405\n",
       "132   2023                 Punjab Kings    227    117               344\n",
       "133   2023             Rajasthan Royals    215    112               327\n",
       "134   2023  Royal Challengers Bengaluru    202    107               309\n",
       "135   2023          Sunrisers Hyderabad    216     84               300"
      ]
     },
     "execution_count": 200,
     "metadata": {},
     "output_type": "execute_result"
    }
   ],
   "source": [
    "season_data"
   ]
  },
  {
   "cell_type": "code",
   "execution_count": 206,
   "id": "0ed0d58e-1c24-4ec8-86ee-bae58cbdb250",
   "metadata": {},
   "outputs": [
    {
     "data": {
      "image/png": "[encoded data removed]",
      "text/plain": [
       "<Figure size 1500x500 with 1 Axes>"
      ]
     },
     "metadata": {},
     "output_type": "display_data"
    }
   ],
   "source": [
    "season_data = season_data.sort_values(by = 'total_boundaries', ascending = False)\n",
    "teams = season_data['batting_team']\n",
    "fours = season_data['fours']\n",
    "sixes = season_data['sixes']\n",
    "total = season_data['total_boundaries']\n",
    "\n",
    "#Create bar positions\n",
    "x = np.arange(len(teams))\n",
    "bar_width = 0.25\n",
    "\n",
    "#Plot bars\n",
    "plt.figure(figsize=(15,5))\n",
    "plt.bar(x-bar_width, fours, width=bar_width, label='Fours', color='blue')\n",
    "plt.bar(x, sixes, width=bar_width, label='Sixes', color='orange')\n",
    "plt.bar(x+bar_width, total, width=bar_width, label='Fours', color = 'green')\n",
    "\n",
    "#Formatting\n",
    "plt.xticks(ticks=x, labels=teams, rotation=45, ha='right')\n",
    "plt.xlabel('Teams')\n",
    "plt.ylabel('Count')\n",
    "plt.title(f'Fours,Sixes and Total Boundaries in IPL {season}')\n",
    "plt.legend()\n",
    "plt.tight_layout()\n",
    "plt.grid(axis = 'y',linestyle = '--', alpha=0.5)\n",
    "plt.show()"
   ]
  },
  {
   "cell_type": "code",
   "execution_count": 207,
   "id": "ec9872aa-6694-4809-8e23-6970f9b2f39c",
   "metadata": {},
   "outputs": [],
   "source": [
    "#Average runs scored by a team in Powerplay(Overs 1-6)\n",
    "powerplay_data = ipl_balls[ipl_balls['over'].between(0,5)]\n",
    "powerplay_runs = powerplay_data.groupby(['season','batting_team','match_id'])['total_runs'].sum().reset_index()\n",
    "avg_powerplay_score = powerplay_runs.groupby(['season','batting_team'])['total_runs'].mean().reset_index(name = 'average_powerplay_score')\n",
    "avg_powerplay_score['average_powerplay_score'] = avg_powerplay_score['average_powerplay_score'].round(2)"
   ]
  },
  {
   "cell_type": "code",
   "execution_count": 254,
   "id": "605ee61b-06f9-4167-b03c-4538510c6ea3",
   "metadata": {},
   "outputs": [
    {
     "name": "stdin",
     "output_type": "stream",
     "text": [
      "Enter the IPL season(2008-2024):  2016\n"
     ]
    }
   ],
   "source": [
    "#Compare teams powerplay score in an IPL season\n",
    "selected_season = input(\"Enter the IPL season(2008-2024): \")\n",
    "season_pp = avg_powerplay_score[avg_powerplay_score['season'] == selected_season]"
   ]
  },
  {
   "cell_type": "code",
   "execution_count": 255,
   "id": "3c504f57-92cd-4f16-bedc-71de46838693",
   "metadata": {},
   "outputs": [
    {
     "data": {
      "text/html": [
       "<div>\n",
       "<style scoped>\n",
       "    .dataframe tbody tr th:only-of-type {\n",
       "        vertical-align: middle;\n",
       "    }\n",
       "\n",
       "    .dataframe tbody tr th {\n",
       "        vertical-align: top;\n",
       "    }\n",
       "\n",
       "    .dataframe thead th {\n",
       "        text-align: right;\n",
       "    }\n",
       "</style>\n",
       "<table border=\"1\" class=\"dataframe\">\n",
       "  <thead>\n",
       "    <tr style=\"text-align: right;\">\n",
       "      <th></th>\n",
       "      <th>season</th>\n",
       "      <th>batting_team</th>\n",
       "      <th>average_powerplay_score</th>\n",
       "    </tr>\n",
       "  </thead>\n",
       "  <tbody>\n",
       "    <tr>\n",
       "      <th>68</th>\n",
       "      <td>2016</td>\n",
       "      <td>Delhi Daredevils</td>\n",
       "      <td>41.50</td>\n",
       "    </tr>\n",
       "    <tr>\n",
       "      <th>69</th>\n",
       "      <td>2016</td>\n",
       "      <td>Gujarat Lions</td>\n",
       "      <td>49.75</td>\n",
       "    </tr>\n",
       "    <tr>\n",
       "      <th>70</th>\n",
       "      <td>2016</td>\n",
       "      <td>Kolkata Knight Riders</td>\n",
       "      <td>47.27</td>\n",
       "    </tr>\n",
       "    <tr>\n",
       "      <th>71</th>\n",
       "      <td>2016</td>\n",
       "      <td>Mumbai Indians</td>\n",
       "      <td>42.86</td>\n",
       "    </tr>\n",
       "    <tr>\n",
       "      <th>72</th>\n",
       "      <td>2016</td>\n",
       "      <td>Punjab Kings</td>\n",
       "      <td>45.43</td>\n",
       "    </tr>\n",
       "    <tr>\n",
       "      <th>73</th>\n",
       "      <td>2016</td>\n",
       "      <td>Rising Pune Supergiant</td>\n",
       "      <td>45.57</td>\n",
       "    </tr>\n",
       "    <tr>\n",
       "      <th>74</th>\n",
       "      <td>2016</td>\n",
       "      <td>Royal Challengers Bengaluru</td>\n",
       "      <td>48.62</td>\n",
       "    </tr>\n",
       "    <tr>\n",
       "      <th>75</th>\n",
       "      <td>2016</td>\n",
       "      <td>Sunrisers Hyderabad</td>\n",
       "      <td>47.06</td>\n",
       "    </tr>\n",
       "  </tbody>\n",
       "</table>\n",
       "</div>"
      ],
      "text/plain": [
       "   season                 batting_team  average_powerplay_score\n",
       "68   2016             Delhi Daredevils                    41.50\n",
       "69   2016                Gujarat Lions                    49.75\n",
       "70   2016        Kolkata Knight Riders                    47.27\n",
       "71   2016               Mumbai Indians                    42.86\n",
       "72   2016                 Punjab Kings                    45.43\n",
       "73   2016       Rising Pune Supergiant                    45.57\n",
       "74   2016  Royal Challengers Bengaluru                    48.62\n",
       "75   2016          Sunrisers Hyderabad                    47.06"
      ]
     },
     "execution_count": 255,
     "metadata": {},
     "output_type": "execute_result"
    }
   ],
   "source": [
    "season_pp"
   ]
  },
  {
   "cell_type": "code",
   "execution_count": 397,
   "id": "3f2fd883-df64-4a19-8ee5-053dea3ee13e",
   "metadata": {},
   "outputs": [
    {
     "data": {
      "image/png": "[encoded data removed]",
      "text/plain": [
       "<Figure size 800x400 with 1 Axes>"
      ]
     },
     "metadata": {},
     "output_type": "display_data"
    }
   ],
   "source": [
    "#Bar Plot\n",
    "plt.figure(figsize = (8,4))\n",
    "plt.bar(season_pp['batting_team'], season_pp['average_powerplay_score'], color = 'orange')\n",
    "\n",
    "#Formatting\n",
    "plt.xticks(rotation = 45,ha = 'right')\n",
    "plt.title(f'Average Powerplay score by teams in IPL {selected_season}.')\n",
    "plt.xlabel('Teams')\n",
    "plt.ylabel('Average Runs scored in the powerplay')\n",
    "plt.grid(axis = 'y',linestyle = '--',alpha = 0.5 )\n",
    "plt.tight_layout()\n",
    "plt.show()"
   ]
  },
  {
   "cell_type": "code",
   "execution_count": 251,
   "id": "44232da1-5368-43f9-bdce-9fef704de078",
   "metadata": {},
   "outputs": [
    {
     "name": "stdin",
     "output_type": "stream",
     "text": [
      "Enter the team name:  Kolkata Knight Riders\n"
     ]
    }
   ],
   "source": [
    "#Team performance in powerplay in all IPL seasons\n",
    "team_name = input(\"Enter the team name: \")\n",
    "team_pp = avg_powerplay_score[avg_powerplay_score['batting_team'] == team_name]\n",
    "\n",
    "#Sort by average runs\n",
    "team_pp = team_pp.sort_values(by = 'average_powerplay_score', ascending = False)"
   ]
  },
  {
   "cell_type": "code",
   "execution_count": 252,
   "id": "f904c9c3-8b43-4b66-8fd8-774ac878963b",
   "metadata": {},
   "outputs": [
    {
     "data": {
      "text/html": [
       "<div>\n",
       "<style scoped>\n",
       "    .dataframe tbody tr th:only-of-type {\n",
       "        vertical-align: middle;\n",
       "    }\n",
       "\n",
       "    .dataframe tbody tr th {\n",
       "        vertical-align: top;\n",
       "    }\n",
       "\n",
       "    .dataframe thead th {\n",
       "        text-align: right;\n",
       "    }\n",
       "</style>\n",
       "<table border=\"1\" class=\"dataframe\">\n",
       "  <thead>\n",
       "    <tr style=\"text-align: right;\">\n",
       "      <th></th>\n",
       "      <th>season</th>\n",
       "      <th>batting_team</th>\n",
       "      <th>average_powerplay_score</th>\n",
       "    </tr>\n",
       "  </thead>\n",
       "  <tbody>\n",
       "    <tr>\n",
       "      <th>139</th>\n",
       "      <td>2024</td>\n",
       "      <td>Kolkata Knight Riders</td>\n",
       "      <td>66.43</td>\n",
       "    </tr>\n",
       "    <tr>\n",
       "      <th>78</th>\n",
       "      <td>2017</td>\n",
       "      <td>Kolkata Knight Riders</td>\n",
       "      <td>56.00</td>\n",
       "    </tr>\n",
       "    <tr>\n",
       "      <th>86</th>\n",
       "      <td>2018</td>\n",
       "      <td>Kolkata Knight Riders</td>\n",
       "      <td>54.69</td>\n",
       "    </tr>\n",
       "    <tr>\n",
       "      <th>62</th>\n",
       "      <td>2015</td>\n",
       "      <td>Kolkata Knight Riders</td>\n",
       "      <td>50.69</td>\n",
       "    </tr>\n",
       "    <tr>\n",
       "      <th>129</th>\n",
       "      <td>2023</td>\n",
       "      <td>Kolkata Knight Riders</td>\n",
       "      <td>50.00</td>\n",
       "    </tr>\n",
       "    <tr>\n",
       "      <th>94</th>\n",
       "      <td>2019</td>\n",
       "      <td>Kolkata Knight Riders</td>\n",
       "      <td>48.36</td>\n",
       "    </tr>\n",
       "    <tr>\n",
       "      <th>70</th>\n",
       "      <td>2016</td>\n",
       "      <td>Kolkata Knight Riders</td>\n",
       "      <td>47.27</td>\n",
       "    </tr>\n",
       "    <tr>\n",
       "      <th>110</th>\n",
       "      <td>2021</td>\n",
       "      <td>Kolkata Knight Riders</td>\n",
       "      <td>46.71</td>\n",
       "    </tr>\n",
       "    <tr>\n",
       "      <th>37</th>\n",
       "      <td>2012</td>\n",
       "      <td>Kolkata Knight Riders</td>\n",
       "      <td>45.18</td>\n",
       "    </tr>\n",
       "    <tr>\n",
       "      <th>19</th>\n",
       "      <td>2010</td>\n",
       "      <td>Kolkata Knight Riders</td>\n",
       "      <td>44.79</td>\n",
       "    </tr>\n",
       "    <tr>\n",
       "      <th>45</th>\n",
       "      <td>2013</td>\n",
       "      <td>Kolkata Knight Riders</td>\n",
       "      <td>44.31</td>\n",
       "    </tr>\n",
       "    <tr>\n",
       "      <th>54</th>\n",
       "      <td>2014</td>\n",
       "      <td>Kolkata Knight Riders</td>\n",
       "      <td>43.94</td>\n",
       "    </tr>\n",
       "    <tr>\n",
       "      <th>119</th>\n",
       "      <td>2022</td>\n",
       "      <td>Kolkata Knight Riders</td>\n",
       "      <td>43.57</td>\n",
       "    </tr>\n",
       "    <tr>\n",
       "      <th>102</th>\n",
       "      <td>2020</td>\n",
       "      <td>Kolkata Knight Riders</td>\n",
       "      <td>42.86</td>\n",
       "    </tr>\n",
       "    <tr>\n",
       "      <th>28</th>\n",
       "      <td>2011</td>\n",
       "      <td>Kolkata Knight Riders</td>\n",
       "      <td>41.67</td>\n",
       "    </tr>\n",
       "    <tr>\n",
       "      <th>3</th>\n",
       "      <td>2008</td>\n",
       "      <td>Kolkata Knight Riders</td>\n",
       "      <td>41.08</td>\n",
       "    </tr>\n",
       "    <tr>\n",
       "      <th>11</th>\n",
       "      <td>2009</td>\n",
       "      <td>Kolkata Knight Riders</td>\n",
       "      <td>40.38</td>\n",
       "    </tr>\n",
       "  </tbody>\n",
       "</table>\n",
       "</div>"
      ],
      "text/plain": [
       "    season           batting_team  average_powerplay_score\n",
       "139   2024  Kolkata Knight Riders                    66.43\n",
       "78    2017  Kolkata Knight Riders                    56.00\n",
       "86    2018  Kolkata Knight Riders                    54.69\n",
       "62    2015  Kolkata Knight Riders                    50.69\n",
       "129   2023  Kolkata Knight Riders                    50.00\n",
       "94    2019  Kolkata Knight Riders                    48.36\n",
       "70    2016  Kolkata Knight Riders                    47.27\n",
       "110   2021  Kolkata Knight Riders                    46.71\n",
       "37    2012  Kolkata Knight Riders                    45.18\n",
       "19    2010  Kolkata Knight Riders                    44.79\n",
       "45    2013  Kolkata Knight Riders                    44.31\n",
       "54    2014  Kolkata Knight Riders                    43.94\n",
       "119   2022  Kolkata Knight Riders                    43.57\n",
       "102   2020  Kolkata Knight Riders                    42.86\n",
       "28    2011  Kolkata Knight Riders                    41.67\n",
       "3     2008  Kolkata Knight Riders                    41.08\n",
       "11    2009  Kolkata Knight Riders                    40.38"
      ]
     },
     "execution_count": 252,
     "metadata": {},
     "output_type": "execute_result"
    }
   ],
   "source": [
    "team_pp"
   ]
  },
  {
   "cell_type": "code",
   "execution_count": 253,
   "id": "477b55d4-8ff7-40ba-bbc2-c6d73d7515a2",
   "metadata": {},
   "outputs": [
    {
     "data": {
      "image/png": "[encoded data removed]",
      "text/plain": [
       "<Figure size 1500x600 with 1 Axes>"
      ]
     },
     "metadata": {},
     "output_type": "display_data"
    }
   ],
   "source": [
    "plt.figure(figsize = (15,6))\n",
    "plt.plot(team_pp['season'], team_pp['average_powerplay_score'], marker = 'o', color = 'dodgerblue', linewidth = 2)\n",
    "plt.title(f'{team_name} - Powerplay Performance in all IPL sessions')\n",
    "plt.xlabel('Seasons')\n",
    "plt.ylabel('Average Powerplay Score')\n",
    "plt.grid(True, linestyle = '--', alpha = 0.6)\n",
    "plt.xticks(team_pp['season'], rotation = 45)\n",
    "plt.tight_layout()\n",
    "plt.show()"
   ]
  },
  {
   "cell_type": "markdown",
   "id": "a2ace11f-1621-4d1b-9ec0-5e6abe72a193",
   "metadata": {
    "jp-MarkdownHeadingCollapsed": true
   },
   "source": [
    "# Bowling Analysis"
   ]
  },
  {
   "cell_type": "code",
   "execution_count": 279,
   "id": "0604ec2b-9f0d-426f-b64a-f2c696123928",
   "metadata": {},
   "outputs": [],
   "source": [
    "#ipl_balls.head(10)"
   ]
  },
  {
   "cell_type": "code",
   "execution_count": 261,
   "id": "2ad5513f-5671-4d39-92f0-a74f0aaa8de2",
   "metadata": {},
   "outputs": [],
   "source": [
    "bowling_stats = ipl_balls[ipl_balls['is_wicket'] == 1]"
   ]
  },
  {
   "cell_type": "code",
   "execution_count": 264,
   "id": "76216dd0-2200-4929-9198-57aa36de2793",
   "metadata": {},
   "outputs": [],
   "source": [
    "total_wickets = bowling_stats.groupby('bowler')['is_wicket'].sum().reset_index()\n",
    "total_wickets = total_wickets.rename(columns = {'is_wicket':'wickets'})"
   ]
  },
  {
   "cell_type": "code",
   "execution_count": 317,
   "id": "190eb848-5b91-4135-a5dd-f86dec935399",
   "metadata": {},
   "outputs": [],
   "source": [
    "valid_wickets = ipl_balls[ipl_balls['is_wicket'] == 1 & ~ipl_balls['dismissal_kind'].isin(['run out','retired hurt','obstructing the field'])]\n",
    "valid_wickets = valid_wickets.groupby('bowler')['is_wicket'].sum().reset_index()\n",
    "valid_wickets = valid_wickets.rename(columns = {'is_wicket':'wickets'})\n",
    "bowling_stats = bowling_stats.merge(valid_wickets, on = 'bowler', how = 'left')"
   ]
  },
  {
   "cell_type": "code",
   "execution_count": 324,
   "id": "c3f7a176-86ba-40eb-aa9c-9d805f55e8ec",
   "metadata": {},
   "outputs": [],
   "source": [
    "bowling_stats = bowling_stats.drop(columns = ['wickets_x','wickets_y'])"
   ]
  },
  {
   "cell_type": "code",
   "execution_count": 282,
   "id": "b905ab64-e630-4f17-aa8d-0de8a3da37c8",
   "metadata": {},
   "outputs": [],
   "source": [
    "legal_deliveries = ipl_balls[~ipl_balls['extras_type'].isin(['wides','noballs'])]"
   ]
  },
  {
   "cell_type": "code",
   "execution_count": 285,
   "id": "2c81ee73-8db9-4d28-bb52-2a92179437c8",
   "metadata": {},
   "outputs": [],
   "source": [
    "balls_bowled = legal_deliveries.groupby('bowler').size().reset_index(name = 'balls_bowled')"
   ]
  },
  {
   "cell_type": "code",
   "execution_count": 286,
   "id": "9de17917-ec18-4061-8c2e-35f55abb574c",
   "metadata": {},
   "outputs": [],
   "source": [
    "runs_conceded = ipl_balls.groupby('bowler')['total_runs'].sum().reset_index()"
   ]
  },
  {
   "cell_type": "code",
   "execution_count": 292,
   "id": "e379bf78-e2bc-4590-a48e-9634ef690db6",
   "metadata": {},
   "outputs": [],
   "source": [
    "bowling_stats = pd.merge(balls_bowled, runs_conceded, on = 'bowler')"
   ]
  },
  {
   "cell_type": "code",
   "execution_count": 297,
   "id": "20f26472-2484-4d22-9e83-bd5dafb9ccf9",
   "metadata": {},
   "outputs": [],
   "source": [
    "#calculate overs\n",
    "bowling_stats['overs'] = bowling_stats['balls_bowled']//6 + (bowling_stats['balls_bowled']%6)/6\n",
    "bowling_stats['overs'] = bowling_stats['overs'].round(2)"
   ]
  },
  {
   "cell_type": "code",
   "execution_count": 299,
   "id": "c3b62692-bb1f-4641-b83d-529b1a728264",
   "metadata": {},
   "outputs": [],
   "source": [
    "#Economy Rate = Runs Conceded/Overs Bowled\n",
    "bowling_stats['ER'] = (bowling_stats['total_runs']/bowling_stats['overs']).round(2)"
   ]
  },
  {
   "cell_type": "code",
   "execution_count": 330,
   "id": "beadaee2-984a-4087-98f4-f84ea02b410a",
   "metadata": {},
   "outputs": [],
   "source": [
    "#Bowling Average = Runs Conceded/Wickets Taken\n",
    "\n",
    "#Avoid division by zero\n",
    "bowling_stats = bowling_stats[bowling_stats['wickets'] > 0]\n",
    "bowling_stats['Avg'] = (bowling_stats['total_runs']/bowling_stats['wickets']).round(2)"
   ]
  },
  {
   "cell_type": "code",
   "execution_count": 332,
   "id": "96e9f0dd-12c7-47f9-b433-4db2465c43be",
   "metadata": {},
   "outputs": [],
   "source": [
    "#Strike Rate = Balls Bowled/Wickets Taken\n",
    "bowling_stats['SR'] = (bowling_stats['balls_bowled']/bowling_stats['wickets']).round(2)"
   ]
  },
  {
   "cell_type": "code",
   "execution_count": 334,
   "id": "3174d74a-b94d-43bb-a73a-986e410abe04",
   "metadata": {},
   "outputs": [
    {
     "data": {
      "text/html": [
       "<div>\n",
       "<style scoped>\n",
       "    .dataframe tbody tr th:only-of-type {\n",
       "        vertical-align: middle;\n",
       "    }\n",
       "\n",
       "    .dataframe tbody tr th {\n",
       "        vertical-align: top;\n",
       "    }\n",
       "\n",
       "    .dataframe thead th {\n",
       "        text-align: right;\n",
       "    }\n",
       "</style>\n",
       "<table border=\"1\" class=\"dataframe\">\n",
       "  <thead>\n",
       "    <tr style=\"text-align: right;\">\n",
       "      <th></th>\n",
       "      <th>bowler</th>\n",
       "      <th>balls_bowled</th>\n",
       "      <th>total_runs</th>\n",
       "      <th>overs</th>\n",
       "      <th>ER</th>\n",
       "      <th>wickets</th>\n",
       "      <th>Avg</th>\n",
       "      <th>SR</th>\n",
       "    </tr>\n",
       "  </thead>\n",
       "  <tbody>\n",
       "    <tr>\n",
       "      <th>524</th>\n",
       "      <td>YS Chahal</td>\n",
       "      <td>3521</td>\n",
       "      <td>4681</td>\n",
       "      <td>586.83</td>\n",
       "      <td>7.98</td>\n",
       "      <td>205</td>\n",
       "      <td>22.83</td>\n",
       "      <td>17.18</td>\n",
       "    </tr>\n",
       "    <tr>\n",
       "      <th>348</th>\n",
       "      <td>PP Chawla</td>\n",
       "      <td>3850</td>\n",
       "      <td>5179</td>\n",
       "      <td>641.67</td>\n",
       "      <td>8.07</td>\n",
       "      <td>192</td>\n",
       "      <td>26.97</td>\n",
       "      <td>20.05</td>\n",
       "    </tr>\n",
       "    <tr>\n",
       "      <th>119</th>\n",
       "      <td>DJ Bravo</td>\n",
       "      <td>3120</td>\n",
       "      <td>4436</td>\n",
       "      <td>520.00</td>\n",
       "      <td>8.53</td>\n",
       "      <td>183</td>\n",
       "      <td>24.24</td>\n",
       "      <td>17.05</td>\n",
       "    </tr>\n",
       "    <tr>\n",
       "      <th>71</th>\n",
       "      <td>B Kumar</td>\n",
       "      <td>3910</td>\n",
       "      <td>5051</td>\n",
       "      <td>651.67</td>\n",
       "      <td>7.75</td>\n",
       "      <td>181</td>\n",
       "      <td>27.91</td>\n",
       "      <td>21.60</td>\n",
       "    </tr>\n",
       "    <tr>\n",
       "      <th>446</th>\n",
       "      <td>SP Narine</td>\n",
       "      <td>4081</td>\n",
       "      <td>4672</td>\n",
       "      <td>680.17</td>\n",
       "      <td>6.87</td>\n",
       "      <td>180</td>\n",
       "      <td>25.96</td>\n",
       "      <td>22.67</td>\n",
       "    </tr>\n",
       "  </tbody>\n",
       "</table>\n",
       "</div>"
      ],
      "text/plain": [
       "        bowler  balls_bowled  total_runs   overs    ER  wickets    Avg     SR\n",
       "524  YS Chahal          3521        4681  586.83  7.98      205  22.83  17.18\n",
       "348  PP Chawla          3850        5179  641.67  8.07      192  26.97  20.05\n",
       "119   DJ Bravo          3120        4436  520.00  8.53      183  24.24  17.05\n",
       "71     B Kumar          3910        5051  651.67  7.75      181  27.91  21.60\n",
       "446  SP Narine          4081        4672  680.17  6.87      180  25.96  22.67"
      ]
     },
     "execution_count": 334,
     "metadata": {},
     "output_type": "execute_result"
    }
   ],
   "source": [
    "#Top five Wicket takers in IPL history\n",
    "bowling_stats.sort_values(by = 'wickets', ascending = False).head()"
   ]
  },
  {
   "cell_type": "code",
   "execution_count": 351,
   "id": "0686afb0-4347-4927-b90d-eff21dbdb07e",
   "metadata": {},
   "outputs": [],
   "source": [
    "#Calculate Maidens\n",
    "over_wise = legal_deliveries.groupby(['match_id','bowler','over'])['total_runs'].sum().reset_index()\n",
    "maidens_count = over_wise[over_wise['total_runs'] == 0].groupby('bowler').size().reset_index()\n",
    "maidens_count = maidens_count.rename(columns = {0:'maiden'})"
   ]
  },
  {
   "cell_type": "code",
   "execution_count": 353,
   "id": "99064172-3bd2-4182-8d20-6fbf017651b4",
   "metadata": {},
   "outputs": [
    {
     "data": {
      "text/html": [
       "<div>\n",
       "<style scoped>\n",
       "    .dataframe tbody tr th:only-of-type {\n",
       "        vertical-align: middle;\n",
       "    }\n",
       "\n",
       "    .dataframe tbody tr th {\n",
       "        vertical-align: top;\n",
       "    }\n",
       "\n",
       "    .dataframe thead th {\n",
       "        text-align: right;\n",
       "    }\n",
       "</style>\n",
       "<table border=\"1\" class=\"dataframe\">\n",
       "  <thead>\n",
       "    <tr style=\"text-align: right;\">\n",
       "      <th></th>\n",
       "      <th>bowler</th>\n",
       "      <th>maiden</th>\n",
       "    </tr>\n",
       "  </thead>\n",
       "  <tbody>\n",
       "    <tr>\n",
       "      <th>18</th>\n",
       "      <td>B Kumar</td>\n",
       "      <td>16</td>\n",
       "    </tr>\n",
       "  </tbody>\n",
       "</table>\n",
       "</div>"
      ],
      "text/plain": [
       "     bowler  maiden\n",
       "18  B Kumar      16"
      ]
     },
     "execution_count": 353,
     "metadata": {},
     "output_type": "execute_result"
    }
   ],
   "source": [
    "#Bowler with most maiden overs\n",
    "maidens_count.sort_values(by = 'maiden', ascending = False).head(1)"
   ]
  },
  {
   "cell_type": "code",
   "execution_count": 356,
   "id": "8197007f-13c0-4b1f-9166-407a5b484296",
   "metadata": {},
   "outputs": [],
   "source": [
    "#Calculate dot-balls\n",
    "dot_balls = legal_deliveries[legal_deliveries['total_runs'] == 0]\n",
    "dotballs_count = dot_balls.groupby('bowler').size().reset_index(name = 'dot_balls')"
   ]
  },
  {
   "cell_type": "code",
   "execution_count": 367,
   "id": "fda81453-ad25-4f40-af4b-582ae4db63fb",
   "metadata": {},
   "outputs": [],
   "source": [
    "dotballs_count = dotballs_count.merge(balls_bowled, on = 'bowler', how = 'left')\n",
    "dotballs_count['dot_balls'] = dotballs_count['dot_balls'].fillna(0)"
   ]
  },
  {
   "cell_type": "code",
   "execution_count": 371,
   "id": "79c29c3b-45cd-4045-be89-e8a558c4d557",
   "metadata": {},
   "outputs": [],
   "source": [
    "dotballs_count['balls_bowled'] = dotballs_count['balls_bowled_x']\n",
    "dotballs_count = dotballs_count.drop(columns = ['balls_bowled_x','balls_bowled_y'])"
   ]
  },
  {
   "cell_type": "code",
   "execution_count": 373,
   "id": "f0b1f48c-3050-4f2a-a6be-dfb47d9d9628",
   "metadata": {},
   "outputs": [],
   "source": [
    "#Calculate dot-ball percentage\n",
    "dotballs_count['%age'] = (dotballs_count['dot_balls']/dotballs_count['balls_bowled'])*100\n",
    "dotballs_count['%age'] = dotballs_count['%age'].round(2)"
   ]
  },
  {
   "cell_type": "code",
   "execution_count": 378,
   "id": "f372712a-e3ec-4a52-bf2d-049af265bb53",
   "metadata": {},
   "outputs": [
    {
     "data": {
      "text/html": [
       "<div>\n",
       "<style scoped>\n",
       "    .dataframe tbody tr th:only-of-type {\n",
       "        vertical-align: middle;\n",
       "    }\n",
       "\n",
       "    .dataframe tbody tr th {\n",
       "        vertical-align: top;\n",
       "    }\n",
       "\n",
       "    .dataframe thead th {\n",
       "        text-align: right;\n",
       "    }\n",
       "</style>\n",
       "<table border=\"1\" class=\"dataframe\">\n",
       "  <thead>\n",
       "    <tr style=\"text-align: right;\">\n",
       "      <th></th>\n",
       "      <th>bowler</th>\n",
       "      <th>dot_balls</th>\n",
       "      <th>balls_bowled</th>\n",
       "      <th>%age</th>\n",
       "    </tr>\n",
       "  </thead>\n",
       "  <tbody>\n",
       "    <tr>\n",
       "      <th>70</th>\n",
       "      <td>B Kumar</td>\n",
       "      <td>1632</td>\n",
       "      <td>3910</td>\n",
       "      <td>41.74</td>\n",
       "    </tr>\n",
       "  </tbody>\n",
       "</table>\n",
       "</div>"
      ],
      "text/plain": [
       "     bowler  dot_balls  balls_bowled   %age\n",
       "70  B Kumar       1632          3910  41.74"
      ]
     },
     "execution_count": 378,
     "metadata": {},
     "output_type": "execute_result"
    }
   ],
   "source": [
    "#Bowler with most dot-balls\n",
    "dotballs_count.sort_values(by = 'dot_balls', ascending = False).head(1)"
   ]
  },
  {
   "cell_type": "code",
   "execution_count": 385,
   "id": "d638bf23-0fa2-43a4-81fb-de4a23e1618c",
   "metadata": {},
   "outputs": [],
   "source": [
    "bowler_inning_runs = ipl_balls.groupby(['match_id','inning','batting_team','bowler'])['total_runs'].sum().reset_index()"
   ]
  },
  {
   "cell_type": "code",
   "execution_count": 388,
   "id": "3066874d-cb96-4c92-9301-d92263d11083",
   "metadata": {},
   "outputs": [
    {
     "data": {
      "text/html": [
       "<div>\n",
       "<style scoped>\n",
       "    .dataframe tbody tr th:only-of-type {\n",
       "        vertical-align: middle;\n",
       "    }\n",
       "\n",
       "    .dataframe tbody tr th {\n",
       "        vertical-align: top;\n",
       "    }\n",
       "\n",
       "    .dataframe thead th {\n",
       "        text-align: right;\n",
       "    }\n",
       "</style>\n",
       "<table border=\"1\" class=\"dataframe\">\n",
       "  <thead>\n",
       "    <tr style=\"text-align: right;\">\n",
       "      <th></th>\n",
       "      <th>match_id</th>\n",
       "      <th>inning</th>\n",
       "      <th>batting_team</th>\n",
       "      <th>bowler</th>\n",
       "      <th>total_runs</th>\n",
       "    </tr>\n",
       "  </thead>\n",
       "  <tbody>\n",
       "    <tr>\n",
       "      <th>12620</th>\n",
       "      <td>1426278</td>\n",
       "      <td>1</td>\n",
       "      <td>Delhi Capitals</td>\n",
       "      <td>MM Sharma</td>\n",
       "      <td>73</td>\n",
       "    </tr>\n",
       "  </tbody>\n",
       "</table>\n",
       "</div>"
      ],
      "text/plain": [
       "       match_id  inning    batting_team     bowler  total_runs\n",
       "12620   1426278       1  Delhi Capitals  MM Sharma          73"
      ]
     },
     "execution_count": 388,
     "metadata": {},
     "output_type": "execute_result"
    }
   ],
   "source": [
    "#Most runs conceded by a bowler in an inning\n",
    "bowler_inning_runs.sort_values(by = 'total_runs', ascending = False).head(1)"
   ]
  },
  {
   "cell_type": "code",
   "execution_count": 389,
   "id": "0606a175-a710-4950-8ea9-e8528c40ab15",
   "metadata": {},
   "outputs": [],
   "source": [
    "bowler_over_runs = ipl_balls.groupby(['match_id','inning','batting_team','over','bowler'])['total_runs'].sum().reset_index()"
   ]
  },
  {
   "cell_type": "code",
   "execution_count": 394,
   "id": "62797384-b5f8-4eca-98ae-25c6e3fcb7f0",
   "metadata": {},
   "outputs": [
    {
     "data": {
      "text/html": [
       "<div>\n",
       "<style scoped>\n",
       "    .dataframe tbody tr th:only-of-type {\n",
       "        vertical-align: middle;\n",
       "    }\n",
       "\n",
       "    .dataframe tbody tr th {\n",
       "        vertical-align: top;\n",
       "    }\n",
       "\n",
       "    .dataframe thead th {\n",
       "        text-align: right;\n",
       "    }\n",
       "</style>\n",
       "<table border=\"1\" class=\"dataframe\">\n",
       "  <thead>\n",
       "    <tr style=\"text-align: right;\">\n",
       "      <th></th>\n",
       "      <th>match_id</th>\n",
       "      <th>inning</th>\n",
       "      <th>batting_team</th>\n",
       "      <th>over</th>\n",
       "      <th>bowler</th>\n",
       "      <th>total_runs</th>\n",
       "    </tr>\n",
       "  </thead>\n",
       "  <tbody>\n",
       "    <tr>\n",
       "      <th>32144</th>\n",
       "      <td>1254076</td>\n",
       "      <td>1</td>\n",
       "      <td>Chennai Super Kings</td>\n",
       "      <td>19</td>\n",
       "      <td>HV Patel</td>\n",
       "      <td>37</td>\n",
       "    </tr>\n",
       "    <tr>\n",
       "      <th>8599</th>\n",
       "      <td>501247</td>\n",
       "      <td>2</td>\n",
       "      <td>Royal Challengers Bengaluru</td>\n",
       "      <td>2</td>\n",
       "      <td>P Parameswaran</td>\n",
       "      <td>37</td>\n",
       "    </tr>\n",
       "    <tr>\n",
       "      <th>34297</th>\n",
       "      <td>1304060</td>\n",
       "      <td>2</td>\n",
       "      <td>Kolkata Knight Riders</td>\n",
       "      <td>15</td>\n",
       "      <td>DR Sams</td>\n",
       "      <td>35</td>\n",
       "    </tr>\n",
       "    <tr>\n",
       "      <th>17603</th>\n",
       "      <td>734047</td>\n",
       "      <td>2</td>\n",
       "      <td>Chennai Super Kings</td>\n",
       "      <td>5</td>\n",
       "      <td>P Awana</td>\n",
       "      <td>33</td>\n",
       "    </tr>\n",
       "    <tr>\n",
       "      <th>5689</th>\n",
       "      <td>419139</td>\n",
       "      <td>1</td>\n",
       "      <td>Kolkata Knight Riders</td>\n",
       "      <td>12</td>\n",
       "      <td>RS Bopara</td>\n",
       "      <td>33</td>\n",
       "    </tr>\n",
       "  </tbody>\n",
       "</table>\n",
       "</div>"
      ],
      "text/plain": [
       "       match_id  inning                 batting_team  over          bowler  \\\n",
       "32144   1254076       1          Chennai Super Kings    19        HV Patel   \n",
       "8599     501247       2  Royal Challengers Bengaluru     2  P Parameswaran   \n",
       "34297   1304060       2        Kolkata Knight Riders    15         DR Sams   \n",
       "17603    734047       2          Chennai Super Kings     5         P Awana   \n",
       "5689     419139       1        Kolkata Knight Riders    12       RS Bopara   \n",
       "\n",
       "       total_runs  \n",
       "32144          37  \n",
       "8599           37  \n",
       "34297          35  \n",
       "17603          33  \n",
       "5689           33  "
      ]
     },
     "execution_count": 394,
     "metadata": {},
     "output_type": "execute_result"
    }
   ],
   "source": [
    "#Most runs conceded by bowlers in an over(Top 5)\n",
    "bowler_over_runs.sort_values(by = 'total_runs', ascending = False).head()"
   ]
  }
 ],
 "metadata": {
  "kernelspec": {
   "display_name": "Python 3 (ipykernel)",
   "language": "python",
   "name": "python3"
  },
  "language_info": {
   "codemirror_mode": {
    "name": "ipython",
    "version": 3
   },
   "file_extension": ".py",
   "mimetype": "text/x-python",
   "name": "python",
   "nbconvert_exporter": "python",
   "pygments_lexer": "ipython3",
   "version": "3.12.7"
  }
 },
 "nbformat": 4,
 "nbformat_minor": 5
}
